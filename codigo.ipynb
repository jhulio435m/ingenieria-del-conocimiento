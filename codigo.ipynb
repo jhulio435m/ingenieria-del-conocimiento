{
 "cells": [
  {
   "cell_type": "code",
   "execution_count": 1,
   "id": "e2935470",
   "metadata": {},
   "outputs": [],
   "source": [
    "import numpy as np"
   ]
  },
  {
   "cell_type": "markdown",
   "id": "eeb928b8",
   "metadata": {},
   "source": [
    "Nearest Neighbor classifier"
   ]
  },
  {
   "cell_type": "code",
   "execution_count": 2,
   "id": "05f9feb9",
   "metadata": {},
   "outputs": [],
   "source": [
    "class NearestNeighboor:\n",
    "    def __init__(self):\n",
    "        pass\n",
    "    \n",
    "    def train(self, X, Y):\n",
    "        self.Xtr = X\n",
    "        self.Ytr = Y\n",
    "    \n",
    "    def predict(self, X):\n",
    "        num_test = X.shape[0]\n",
    "        \n",
    "        Ypred = np.zeros(num_test, dtype= self.Ytr.dtype)\n",
    "        \n",
    "        for i in range(num_test):\n",
    "            distances = np.sum(np.abs(self.Xtr - X[i,:]), axis = 1)\n",
    "            min_index = np.argmin(distances)\n",
    "            Ypred[i] = self.Ytr[min_index]\n",
    "        \n",
    "        return Ypred"
   ]
  }
 ],
 "metadata": {
  "kernelspec": {
   "display_name": "tareas",
   "language": "python",
   "name": "python3"
  },
  "language_info": {
   "codemirror_mode": {
    "name": "ipython",
    "version": 3
   },
   "file_extension": ".py",
   "mimetype": "text/x-python",
   "name": "python",
   "nbconvert_exporter": "python",
   "pygments_lexer": "ipython3",
   "version": "3.12.3"
  }
 },
 "nbformat": 4,
 "nbformat_minor": 5
}
